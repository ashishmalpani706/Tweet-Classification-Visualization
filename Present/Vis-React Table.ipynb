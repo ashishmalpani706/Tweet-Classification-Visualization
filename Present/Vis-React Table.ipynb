{
 "cells": [
  {
   "cell_type": "code",
   "execution_count": 1,
   "metadata": {},
   "outputs": [],
   "source": [
    "#Load data\n",
    "import pandas as pd\n",
    "df = pd.read_csv('C:\\\\Ashish\\\\Project\\\\dataset\\\\visualization-ready\\\\r2v-data-small.csv')"
   ]
  },
  {
   "cell_type": "code",
   "execution_count": 2,
   "metadata": {},
   "outputs": [
    {
     "data": {
      "text/plain": [
       "1    4183\n",
       "2    1527\n",
       "3     673\n",
       "4      17\n",
       "Name: category, dtype: int64"
      ]
     },
     "execution_count": 2,
     "metadata": {},
     "output_type": "execute_result"
    }
   ],
   "source": [
    "df.category.value_counts()"
   ]
  },
  {
   "cell_type": "code",
   "execution_count": 3,
   "metadata": {},
   "outputs": [],
   "source": [
    "#Extract Day and save it to main data\n",
    "from datetime import datetime\n",
    "day = []\n",
    "for index, row in df.iterrows():\n",
    "    day.append(datetime.strptime(row.date, '%d-%m-%y %H:%M').day)\n",
    "df['day'] = day"
   ]
  },
  {
   "cell_type": "code",
   "execution_count": null,
   "metadata": {},
   "outputs": [],
   "source": [
    "#Generate data for traces of plot\n",
    "grouped_data = df.groupby([\"day\", \"category\"])['date'].count()\n",
    "\n",
    "x_axis = grouped_data.index.levels[0]\n",
    "\n",
    "data = [grouped_data[point] for point in x_axis]\n",
    "\n",
    "number_of_categories = len(df.category.unique())\n",
    "\n",
    "t = [None]*number_of_categories\n",
    "\n",
    "for trace_number in range(number_of_categories):\n",
    "    t[trace_number] = []\n",
    "    for i in range(len(data)):\n",
    "        if trace_number + 1 in data[i]:\n",
    "            t[trace_number].append(data[i][trace_number + 1])\n",
    "        else:\n",
    "            t[trace_number].append(0)"
   ]
  },
  {
   "cell_type": "code",
   "execution_count": null,
   "metadata": {},
   "outputs": [
    {
     "name": "stdout",
     "output_type": "stream",
     "text": [
      "https://plot.ly/~ashishmalpani706/61\n"
     ]
    }
   ],
   "source": [
    "#Generate traces\n",
    "import plotly.plotly as py\n",
    "import plotly.graph_objs as go\n",
    "import turtle\n",
    "import random\n",
    "# Make a list of colors to pick from. Add more if more categories are present\n",
    "colors  = [\"blue\",\"green\",\"red\",\"purple\",\"yellow\",\"pink\",\"orange\"]\n",
    "trace = [None]*number_of_categories\n",
    "for trace_number in range(number_of_categories):\n",
    "    trace[trace_number] = dict(\n",
    "    x = x_axis,\n",
    "    y = t[trace_number],\n",
    "    hoverinfo='x+y',\n",
    "    mode='lines',\n",
    "    line=dict(width=0.5,\n",
    "              color = colors[trace_number]),\n",
    "    stackgroup='one')\n",
    "plotly_data = [go.Scatter(single_trace) for single_trace in trace]\n",
    "url = py.plot({'data': plotly_data},\n",
    "               filename = 'widget chart small', auto_open=False)\n",
    "print(url)"
   ]
  },
  {
   "cell_type": "code",
   "execution_count": null,
   "metadata": {},
   "outputs": [],
   "source": [
    "#Generate table for plot\n",
    "trace = go.Table(\n",
    "    header=dict(values=['Date', 'Category', 'Text'],\n",
    "                fill = dict(color='#C2D4FF'),\n",
    "                align = ['left'] * 5),\n",
    "    cells=dict(values=[df.date, df.category, df.text],\n",
    "               fill = dict(color='#F5F8FF'),\n",
    "               align = ['left'] * 5))\n",
    "\n",
    "# data = [trace] \n",
    "# py.iplot(data, filename = 'pandas_table')\n",
    "\n",
    "url2 = py.plot({'data': [go.Table(trace)]},\n",
    "               filename = 'widget table small', auto_open=False)\n",
    "print(url2)"
   ]
  },
  {
   "cell_type": "code",
   "execution_count": null,
   "metadata": {},
   "outputs": [],
   "source": [
    "#Display plot and table\n",
    "from plotly.widgets import GraphWidget\n",
    "g = GraphWidget(url)\n",
    "g2 = GraphWidget(url2)\n",
    "display(g)\n",
    "display(g2)"
   ]
  },
  {
   "cell_type": "code",
   "execution_count": null,
   "metadata": {},
   "outputs": [],
   "source": [
    "import math\n",
    "def message_handler(widget, msg):\n",
    "    start = math.floor(msg['x'][0])\n",
    "    end = math.floor(msg['x'][1])\n",
    "    \n",
    "    analysis_data = dict(values=[])\n",
    "\n",
    "    temp = []\n",
    "    for index, row in df.iterrows():\n",
    "        if row.day >= start and row.day <= end:\n",
    "            temp.append(row.date)\n",
    "\n",
    "    temp = pd.Series(temp)\n",
    "    analysis_data['values'].append([temp])\n",
    "\n",
    "    temp = []\n",
    "    for index, row in df.iterrows():\n",
    "        if row.day >= start and row.day <= end:\n",
    "            temp.append(row.category)\n",
    "\n",
    "    temp = pd.Series(temp)\n",
    "    analysis_data['values'].append([temp])\n",
    "\n",
    "    temp = []\n",
    "    for index, row in df.iterrows():\n",
    "        if row.day >= start and row.day <= end:\n",
    "            temp.append(row.text)\n",
    "\n",
    "    temp = pd.Series(temp)\n",
    "    analysis_data['values'].append([temp])\n",
    "    \n",
    "    list_of_lists = [mylist for mylist in analysis_data['values']]\n",
    "    flattened_list = [y for x in list_of_lists for y in x]\n",
    "    \n",
    "    analysis_data['values'] = flattened_list\n",
    "    g2.restyle({'cells':analysis_data})\n",
    "\n",
    "g.on_zoom(message_handler)"
   ]
  },
  {
   "cell_type": "code",
   "execution_count": null,
   "metadata": {},
   "outputs": [],
   "source": [
    "#------------------"
   ]
  },
  {
   "cell_type": "code",
   "execution_count": null,
   "metadata": {},
   "outputs": [],
   "source": [
    "#Load data\n",
    "import pandas as pd\n",
    "dfl = pd.read_csv('C:\\\\Ashish\\\\Project\\\\dataset\\\\visualization-ready\\\\r2v-data-large.csv')"
   ]
  },
  {
   "cell_type": "code",
   "execution_count": null,
   "metadata": {},
   "outputs": [],
   "source": [
    "dfl.category.value_counts()"
   ]
  },
  {
   "cell_type": "code",
   "execution_count": null,
   "metadata": {},
   "outputs": [],
   "source": [
    "#Extract Day and save it to main data\n",
    "from datetime import datetime\n",
    "day = []\n",
    "for index, row in dfl.iterrows():\n",
    "    day.append(datetime.strptime(row.date, '%d-%m-%y %H:%M').day)\n",
    "dfl['day'] = day"
   ]
  },
  {
   "cell_type": "code",
   "execution_count": null,
   "metadata": {},
   "outputs": [],
   "source": [
    "#Generate data for traces of plot\n",
    "grouped_data = dfl.groupby([\"day\", \"category\"])['date'].count()\n",
    "\n",
    "x_axis = grouped_data.index.levels[0]\n",
    "\n",
    "data = [grouped_data[point] for point in x_axis]\n",
    "\n",
    "number_of_categories = len(dfl.category.unique())\n",
    "\n",
    "t = [None]*number_of_categories\n",
    "\n",
    "for trace_number in range(number_of_categories):\n",
    "    t[trace_number] = []\n",
    "    for i in range(len(data)):\n",
    "        if trace_number + 1 in data[i]:\n",
    "            t[trace_number].append(data[i][trace_number + 1])\n",
    "        else:\n",
    "            t[trace_number].append(0)"
   ]
  },
  {
   "cell_type": "code",
   "execution_count": null,
   "metadata": {},
   "outputs": [],
   "source": [
    "#Generate traces\n",
    "import plotly.plotly as py\n",
    "import plotly.graph_objs as go\n",
    "import turtle\n",
    "import random\n",
    "# Make a list of colors to pick from. Add more if more categories are present\n",
    "colors  = [\"blue\",\"green\",\"red\",\"purple\",\"yellow\",\"pink\",\"orange\"]\n",
    "trace = [None]*number_of_categories\n",
    "for trace_number in range(number_of_categories):\n",
    "    trace[trace_number] = dict(\n",
    "    x = x_axis,\n",
    "    y = t[trace_number],\n",
    "    hoverinfo='x+y',\n",
    "    mode='lines',\n",
    "    line=dict(width=0.5,\n",
    "              color = colors[trace_number]),\n",
    "    stackgroup='one')\n",
    "plotly_data = [go.Scatter(single_trace) for single_trace in trace]\n",
    "url3 = py.plot({'data': plotly_data},\n",
    "               filename = 'widget chart large', auto_open=False)\n",
    "print(url)"
   ]
  },
  {
   "cell_type": "code",
   "execution_count": null,
   "metadata": {},
   "outputs": [],
   "source": [
    "#Generate table for plot\n",
    "trace = go.Table(\n",
    "    header=dict(values=['Date', 'Category', 'Text'],\n",
    "                fill = dict(color='#C2D4FF'),\n",
    "                align = ['left'] * 5),\n",
    "    cells=dict(values=[dfl.date, dfl.category, dfl.text],\n",
    "               fill = dict(color='#F5F8FF'),\n",
    "               align = ['left'] * 5))\n",
    "\n",
    "# data = [trace] \n",
    "# py.iplot(data, filename = 'pandas_table')\n",
    "\n",
    "url4 = py.plot({'data': [go.Table(trace)]},\n",
    "               filename = 'widget table large', auto_open=False)\n",
    "print(url2)"
   ]
  },
  {
   "cell_type": "code",
   "execution_count": null,
   "metadata": {},
   "outputs": [],
   "source": [
    "#Display plot and table\n",
    "from plotly.widgets import GraphWidget\n",
    "gx = GraphWidget(url3)\n",
    "gx2 = GraphWidget(url4)\n",
    "display(gx)\n",
    "display(gx2)"
   ]
  },
  {
   "cell_type": "code",
   "execution_count": null,
   "metadata": {},
   "outputs": [],
   "source": [
    "import math\n",
    "def message_handler(widget, msg):\n",
    "    start = math.floor(msg['x'][0])\n",
    "    end = math.floor(msg['x'][1])\n",
    "    \n",
    "    analysis_data = dict(values=[])\n",
    "\n",
    "    temp = []\n",
    "    for index, row in dfl.iterrows():\n",
    "        if row.day >= start and row.day <= end:\n",
    "            temp.append(row.date)\n",
    "\n",
    "    temp = pd.Series(temp)\n",
    "    analysis_data['values'].append([temp])\n",
    "\n",
    "    temp = []\n",
    "    for index, row in dfl.iterrows():\n",
    "        if row.day >= start and row.day <= end:\n",
    "            temp.append(row.category)\n",
    "\n",
    "    temp = pd.Series(temp)\n",
    "    analysis_data['values'].append([temp])\n",
    "\n",
    "    temp = []\n",
    "    for index, row in dfl.iterrows():\n",
    "        if row.day >= start and row.day <= end:\n",
    "            temp.append(row.text)\n",
    "\n",
    "    temp = pd.Series(temp)\n",
    "    analysis_data['values'].append([temp])\n",
    "    \n",
    "    list_of_lists = [mylist for mylist in analysis_data['values']]\n",
    "    flattened_list = [y for x in list_of_lists for y in x]\n",
    "    \n",
    "    analysis_data['values'] = flattened_list\n",
    "    g2.restyle({'cells':analysis_data})\n",
    "\n",
    "gx.on_zoom(message_handler)"
   ]
  },
  {
   "cell_type": "code",
   "execution_count": null,
   "metadata": {},
   "outputs": [],
   "source": []
  },
  {
   "cell_type": "code",
   "execution_count": null,
   "metadata": {},
   "outputs": [],
   "source": []
  },
  {
   "cell_type": "code",
   "execution_count": null,
   "metadata": {},
   "outputs": [],
   "source": []
  }
 ],
 "metadata": {
  "kernelspec": {
   "display_name": "major_project",
   "language": "python",
   "name": "major_project"
  },
  "language_info": {
   "codemirror_mode": {
    "name": "ipython",
    "version": 3
   },
   "file_extension": ".py",
   "mimetype": "text/x-python",
   "name": "python",
   "nbconvert_exporter": "python",
   "pygments_lexer": "ipython3",
   "version": "3.7.2"
  }
 },
 "nbformat": 4,
 "nbformat_minor": 2
}
