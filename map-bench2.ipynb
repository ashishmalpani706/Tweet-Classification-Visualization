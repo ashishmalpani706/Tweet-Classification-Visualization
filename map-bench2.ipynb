{
 "cells": [
  {
   "cell_type": "code",
   "execution_count": 63,
   "metadata": {},
   "outputs": [],
   "source": [
    "from geopy.geocoders import Nominatim\n",
    "geolocator = Nominatim(user_agent=\"map_tweets2\")"
   ]
  },
  {
   "cell_type": "code",
   "execution_count": 64,
   "metadata": {},
   "outputs": [],
   "source": [
    "import plotly.plotly as py\n",
    "import plotly.graph_objs as go\n",
    "import pandas as pd"
   ]
  },
  {
   "cell_type": "code",
   "execution_count": 65,
   "metadata": {},
   "outputs": [
    {
     "data": {
      "text/html": [
       "<div>\n",
       "<style scoped>\n",
       "    .dataframe tbody tr th:only-of-type {\n",
       "        vertical-align: middle;\n",
       "    }\n",
       "\n",
       "    .dataframe tbody tr th {\n",
       "        vertical-align: top;\n",
       "    }\n",
       "\n",
       "    .dataframe thead th {\n",
       "        text-align: right;\n",
       "    }\n",
       "</style>\n",
       "<table border=\"1\" class=\"dataframe\">\n",
       "  <thead>\n",
       "    <tr style=\"text-align: right;\">\n",
       "      <th></th>\n",
       "      <th>id</th>\n",
       "      <th>date</th>\n",
       "      <th>coordinates</th>\n",
       "      <th>text</th>\n",
       "      <th>original_text</th>\n",
       "      <th>category</th>\n",
       "    </tr>\n",
       "  </thead>\n",
       "  <tbody>\n",
       "    <tr>\n",
       "      <th>0</th>\n",
       "      <td>0</td>\n",
       "      <td>Thu Jan 10 18:37:23 +0000 2019</td>\n",
       "      <td>-80.192000 25.775200</td>\n",
       "      <td>publicadjuster miami florida</td>\n",
       "      <td>#publicadjuster #wefightforyou #hurricaneirma ...</td>\n",
       "      <td>2</td>\n",
       "    </tr>\n",
       "    <tr>\n",
       "      <th>1</th>\n",
       "      <td>1</td>\n",
       "      <td>Wed Jan 02 15:13:57 +0000 2019</td>\n",
       "      <td>-81.592912 29.568785</td>\n",
       "      <td>cushy appointment still suffer</td>\n",
       "      <td>@RepTedYoho @FLGovScott @RonDeSantisFL Now tha...</td>\n",
       "      <td>2</td>\n",
       "    </tr>\n",
       "    <tr>\n",
       "      <th>2</th>\n",
       "      <td>2</td>\n",
       "      <td>Tue Jan 01 01:55:10 +0000 2019</td>\n",
       "      <td>-63.045461 18.022863</td>\n",
       "      <td>impossible blue decade come never island look ...</td>\n",
       "      <td>Impossible blues. #caribbean  #sintmaarten #Du...</td>\n",
       "      <td>1</td>\n",
       "    </tr>\n",
       "    <tr>\n",
       "      <th>3</th>\n",
       "      <td>3</td>\n",
       "      <td>Sat Dec 29 13:59:29 +0000 2018</td>\n",
       "      <td>-81.124037 24.706423</td>\n",
       "      <td>island lose small destroyed hurricane irma mil...</td>\n",
       "      <td>Island Lost. Small Key destroyed from Hurrican...</td>\n",
       "      <td>2</td>\n",
       "    </tr>\n",
       "    <tr>\n",
       "      <th>4</th>\n",
       "      <td>4</td>\n",
       "      <td>Fri Dec 28 22:26:19 +0000 2018</td>\n",
       "      <td>-63.057474 18.100598</td>\n",
       "      <td>today raindrop saint martin</td>\n",
       "      <td>In between today’s raindrops #hurricaneirma #r...</td>\n",
       "      <td>1</td>\n",
       "    </tr>\n",
       "  </tbody>\n",
       "</table>\n",
       "</div>"
      ],
      "text/plain": [
       "   id                            date           coordinates  \\\n",
       "0   0  Thu Jan 10 18:37:23 +0000 2019  -80.192000 25.775200   \n",
       "1   1  Wed Jan 02 15:13:57 +0000 2019  -81.592912 29.568785   \n",
       "2   2  Tue Jan 01 01:55:10 +0000 2019  -63.045461 18.022863   \n",
       "3   3  Sat Dec 29 13:59:29 +0000 2018  -81.124037 24.706423   \n",
       "4   4  Fri Dec 28 22:26:19 +0000 2018  -63.057474 18.100598   \n",
       "\n",
       "                                                text  \\\n",
       "0                       publicadjuster miami florida   \n",
       "1                     cushy appointment still suffer   \n",
       "2  impossible blue decade come never island look ...   \n",
       "3  island lose small destroyed hurricane irma mil...   \n",
       "4                        today raindrop saint martin   \n",
       "\n",
       "                                       original_text  category  \n",
       "0  #publicadjuster #wefightforyou #hurricaneirma ...         2  \n",
       "1  @RepTedYoho @FLGovScott @RonDeSantisFL Now tha...         2  \n",
       "2  Impossible blues. #caribbean  #sintmaarten #Du...         1  \n",
       "3  Island Lost. Small Key destroyed from Hurrican...         2  \n",
       "4  In between today’s raindrops #hurricaneirma #r...         1  "
      ]
     },
     "execution_count": 65,
     "metadata": {},
     "output_type": "execute_result"
    }
   ],
   "source": [
    "df = pd.read_csv('C://Ashish/Project/dataset/visualization-ready/r2v-data-irma1.csv')\n",
    "df.head()"
   ]
  },
  {
   "cell_type": "code",
   "execution_count": 93,
   "metadata": {
    "scrolled": true
   },
   "outputs": [],
   "source": [
    "from geopy.extra.rate_limiter import RateLimiter\n",
    "geocode = RateLimiter(geolocator.geocode, min_delay_seconds=1)\n",
    "\n",
    "long = []\n",
    "lat = []\n",
    "# location = []\n",
    "for index, row in df.iterrows():\n",
    "    if len(row.coordinates.split()) == 2:\n",
    "        long.append(row.coordinates.split()[0])\n",
    "        lat.append(row.coordinates.split()[1])\n",
    "#         location.append(geolocator.reverse(row.coordinates.split()[1] + ',' + row.coordinates.split()[0]))\n",
    "    else:\n",
    "        long.append(row.coordinates.split()[0])\n",
    "        lat.append(0)\n",
    "#         location.append(geolocator.reverse('0' + ',' + row.coordinates.split()[0]))    \n",
    "#     location.append(geolocator.reverse(lat[index] + ',' + long[index]))\n",
    "#     print(index)\n",
    "\n",
    "df['long'] = long\n",
    "df['lat'] = lat\n",
    "# df['state'] = location\n",
    "\n",
    "\n",
    "# location = geolocator.reverse(df.lat[0] + ',' + df.long[0])"
   ]
  },
  {
   "cell_type": "code",
   "execution_count": 105,
   "metadata": {},
   "outputs": [],
   "source": [
    "state = []\n",
    "for x in location:\n",
    "    if 'address' in x.raw.keys() and 'state' in x.raw['address'].keys():\n",
    "        state.append((x.raw['address']['state']))\n",
    "    else:\n",
    "        state.append('Florida')"
   ]
  },
  {
   "cell_type": "code",
   "execution_count": 120,
   "metadata": {},
   "outputs": [],
   "source": [
    "# df['state'] = state\n",
    "for i in range(3064):\n",
    "    state.append('')"
   ]
  },
  {
   "cell_type": "code",
   "execution_count": 91,
   "metadata": {},
   "outputs": [],
   "source": [
    "# saved_data"
   ]
  },
  {
   "cell_type": "code",
   "execution_count": 124,
   "metadata": {},
   "outputs": [],
   "source": [
    "df['state'] = state"
   ]
  },
  {
   "cell_type": "code",
   "execution_count": 125,
   "metadata": {},
   "outputs": [],
   "source": [
    "# df.to_csv('C://Ashish/Project/dataset/visualization-ready/r2v-data-irma2-states.csv')"
   ]
  },
  {
   "cell_type": "code",
   "execution_count": 18,
   "metadata": {},
   "outputs": [],
   "source": [
    "location = geolocator.reverse(df.lat[0] + ',' + df.long[0])"
   ]
  },
  {
   "cell_type": "code",
   "execution_count": 36,
   "metadata": {},
   "outputs": [
    {
     "data": {
      "text/plain": [
       "'Florida'"
      ]
     },
     "execution_count": 36,
     "metadata": {},
     "output_type": "execute_result"
    }
   ],
   "source": [
    "location.raw['address']['state']"
   ]
  },
  {
   "cell_type": "code",
   "execution_count": 12,
   "metadata": {
    "scrolled": true
   },
   "outputs": [],
   "source": [
    "# import dash\n",
    "# import dash_core_components as dcc\n",
    "# import dash_html_components as html\n",
    "# import pandas as pd\n",
    "# import plotly.graph_objs as go\n",
    "# import us\n",
    "\n",
    "# mapbox_access_token = \"pk.eyJ1IjoicHJpeWF0aGFyc2FuIiwiYSI6ImNqbGRyMGQ5YTBhcmkzcXF6YWZldnVvZXoifQ.sN7gyyHTIq1BSfHQRBZdHA\"\n",
    "\n",
    "# df1 = pd.read_csv(\"https://raw.githubusercontent.com/plotly/datasets/master/2011_february_us_airport_traffic.csv\")\n",
    "# df = df1.dropna(axis=0)\n",
    "\n",
    "# app = dash.Dash(__name__)\n",
    "\n",
    "# app.layout = html.Div([\n",
    "#     html.Div([\n",
    "#         html.H1(\"Airport Locations in the United States\")\n",
    "#     ], style={\n",
    "#         'textAlign': \"center\",\n",
    "#         \"padding-bottom\": \"10\",\n",
    "#         \"padding-top\": \"10\"}),\n",
    "#     html.Div([\n",
    "#         dcc.Dropdown(id=\"state-selected\",\n",
    "#                      options=[{'label': f'{us.states.lookup(i)}', 'value': i} for i in df.state.unique()],\n",
    "#                      value=['CA'],\n",
    "#                      multi=True,\n",
    "#                      style={\n",
    "#                          \"display\": \"block\",\n",
    "#                          \"margin-left\": \"auto\",\n",
    "#                          \"margin-right\": \"auto\",\n",
    "#                          \"width\": \"50%\"\n",
    "\n",
    "#                      }\n",
    "#                      )\n",
    "#     ]),\n",
    "#     html.Div(dcc.Graph(id=\"my-graph\"))\n",
    "\n",
    "# ])\n",
    "\n",
    "\n",
    "# @app.callback(\n",
    "#     dash.dependencies.Output(\"my-graph\", \"figure\"),\n",
    "#     [dash.dependencies.Input(\"state-selected\", \"value\")]\n",
    "\n",
    "# )\n",
    "# def update_figure(selected):\n",
    "#     trace = []\n",
    "#     for state in selected:\n",
    "#         dff = df[df[\"state\"] == state]\n",
    "#         trace.append(go.Scattermapbox(\n",
    "#             lat=dff[\"lat\"],\n",
    "#             lon=dff[\"long\"],\n",
    "#             mode='markers',\n",
    "#             marker={'symbol': \"airport\", 'size': 10},\n",
    "#             text=dff['airport'],\n",
    "#             hoverinfo='text',\n",
    "#             name=state\n",
    "#         ))\n",
    "#     return {\n",
    "#         \"data\": trace,\n",
    "#         \"layout\": go.Layout(\n",
    "#             autosize=True,\n",
    "#             hovermode='closest',\n",
    "#             showlegend=False,\n",
    "#             height=700,\n",
    "#             mapbox={'accesstoken': mapbox_access_token,\n",
    "#                     'bearing': 0,\n",
    "#                     'center': {'lat': 38, 'lon': -94},\n",
    "#                     'pitch': 30, 'zoom': 3,\n",
    "#                     \"style\": 'mapbox://styles/mapbox/light-v9'},\n",
    "#         )\n",
    "\n",
    "#     }\n",
    "\n",
    "\n",
    "# server = app.server\n",
    "\n",
    "# if __name__ == '__main__':\n",
    "#     app.run_server(debug=True)\n"
   ]
  },
  {
   "cell_type": "code",
   "execution_count": 127,
   "metadata": {},
   "outputs": [
    {
     "name": "stdout",
     "output_type": "stream",
     "text": [
      "Help on package dash:\n",
      "\n",
      "NAME\n",
      "    dash\n",
      "\n",
      "PACKAGE CONTENTS\n",
      "    _callback_context\n",
      "    _configs\n",
      "    _utils\n",
      "    _watch\n",
      "    dash\n",
      "    dependencies\n",
      "    development (package)\n",
      "    exceptions\n",
      "    resources\n",
      "    version\n",
      "\n",
      "DATA\n",
      "    callback_context = <dash._callback_context.CallbackContext object>\n",
      "\n",
      "VERSION\n",
      "    0.39.0\n",
      "\n",
      "FILE\n",
      "    c:\\users\\ashis\\appdata\\local\\programs\\python\\python37\\lib\\site-packages\\dash\\__init__.py\n",
      "\n",
      "\n"
     ]
    }
   ],
   "source": [
    "help(dash)"
   ]
  },
  {
   "cell_type": "code",
   "execution_count": null,
   "metadata": {},
   "outputs": [],
   "source": []
  }
 ],
 "metadata": {
  "kernelspec": {
   "display_name": "major_project",
   "language": "python",
   "name": "major_project"
  },
  "language_info": {
   "codemirror_mode": {
    "name": "ipython",
    "version": 3
   },
   "file_extension": ".py",
   "mimetype": "text/x-python",
   "name": "python",
   "nbconvert_exporter": "python",
   "pygments_lexer": "ipython3",
   "version": "3.7.2"
  }
 },
 "nbformat": 4,
 "nbformat_minor": 2
}
