{
 "cells": [
  {
   "cell_type": "code",
   "execution_count": 2,
   "metadata": {},
   "outputs": [],
   "source": [
    "# import warnings filter\n",
    "from warnings import simplefilter\n",
    "# ignore all future warnings\n",
    "simplefilter(action='ignore', category=FutureWarning)"
   ]
  },
  {
   "cell_type": "code",
   "execution_count": 3,
   "metadata": {},
   "outputs": [],
   "source": [
    "import pandas as pd\n",
    "import numpy as np\n",
    "import re\n",
    "import nltk\n",
    "df = pd.read_csv('C:\\\\Ashish\\\\Project\\\\dataset\\\\trainset1.csv')#,nrows = 1500)"
   ]
  },
  {
   "cell_type": "code",
   "execution_count": 4,
   "metadata": {},
   "outputs": [],
   "source": [
    "def remove_pattern(input_txt, pattern):\n",
    "    r = re.findall(pattern, input_txt)\n",
    "    for i in r:\n",
    "        input_txt = re.sub(i, '', input_txt)\n",
    "        \n",
    "    return input_txt  \n",
    "\n",
    "# remove twitter handles (@user)\n",
    "df['text'] = np.vectorize(remove_pattern)(df['text'], \"@[\\w]*\")\n",
    "\n",
    "#TO DO - REMOVE ASCII EXTENDED\n",
    "for i in range(len(df)):\n",
    "    tweet = df.iloc[i,df.columns.get_loc('text')]\n",
    "    tweet = tweet.lower()\n",
    "    tweet = re.sub(r\"\\S+\\/.\\S+ *\\S+|.\\S+html|\\S+-\\S+|\\d*\\/\\d+|\\d+|\\S+%\\S+|\\S+:\\S*|\\S+=\\S+|.#\\S+\", \"\", tweet)\n",
    "    tweet = tweet.encode(\"ascii\", errors=\"ignore\").decode()\n",
    "    df.iloc[i,df.columns.get_loc('text')] = tweet\n",
    "    \n",
    "from nltk.corpus import stopwords \n",
    "from nltk.tokenize import word_tokenize \n",
    "stop_words = set(stopwords.words('english'))\n",
    "for i in range(len(df)):\n",
    "    tweet = df.iloc[i,df.columns.get_loc('text')]\n",
    "    word_tokens = word_tokenize(tweet) \n",
    "    filtered_sentence = [w for w in word_tokens if not w in stop_words] \n",
    "    filtered_sentence = [] \n",
    "    for w in word_tokens: \n",
    "        if w not in stop_words: \n",
    "            filtered_sentence.append(w) \n",
    "    tweet = ' '.join(filtered_sentence)\n",
    "    df.iloc[i,df.columns.get_loc('text')] = tweet\n",
    "    \n",
    "custom_words = ['via','rt','fav','…','am','et','pm','n\\'t','y\\'all']\n",
    "for i in range(len(df)):\n",
    "    tweet = df.iloc[i,df.columns.get_loc('text')]\n",
    "    querywords = tweet.split()\n",
    "    resultwords  = [word for word in querywords if word.lower() not in custom_words]\n",
    "    result = ' '.join(resultwords)\n",
    "    df.iloc[i,df.columns.get_loc('text')] = result\n",
    "\n",
    "import string\n",
    "remove = string.punctuation + \".‘’\\''“”°…-—––•・®.:#\"\n",
    "for i in range(len(df)):\n",
    "    tweet = df.iloc[i,df.columns.get_loc('text')]\n",
    "    tweet = ' '.join(word.strip(remove) for word in tweet.split())\n",
    "    tweet = tweet.strip()\n",
    "    df.iloc[i,df.columns.get_loc('text')] = tweet\n",
    "\n",
    "# Lemmatize with POS Tag\n",
    "from nltk.corpus import wordnet\n",
    "from nltk.stem.wordnet import WordNetLemmatizer\n",
    "\n",
    "def get_wordnet_pos(word):\n",
    "    \"\"\"Map POS tag to first character lemmatize() accepts\"\"\"\n",
    "    tag = nltk.pos_tag([word])[0][1][0].upper()\n",
    "    tag_dict = {\"J\": wordnet.ADJ,\n",
    "                \"N\": wordnet.NOUN,\n",
    "                \"V\": wordnet.VERB,\n",
    "                \"R\": wordnet.ADV}\n",
    "\n",
    "    return tag_dict.get(tag, wordnet.NOUN)\n",
    "\n",
    "# 1. Init Lemmatizer\n",
    "lemmatizer = WordNetLemmatizer()\n",
    "\n",
    "for i in range(len(df)):\n",
    "    tweet = df.iloc[i,df.columns.get_loc('text')]\n",
    "    tweet =([lemmatizer.lemmatize(w, get_wordnet_pos(w)) for w in nltk.word_tokenize(tweet)])\n",
    "    tweet = ' '.join(tweet)\n",
    "    df.iloc[i,df.columns.get_loc('text')] = tweet\n",
    "\n",
    "# REVIEW NEEDED\n",
    "import nltk\n",
    "words = set(nltk.corpus.words.words())\n",
    "for i in range(len(df)):\n",
    "    tweet = df.iloc[i,df.columns.get_loc('text')]\n",
    "    tweet = ' '.join(word for word in tweet.split() if len(word)>3)\n",
    "    df.iloc[i,df.columns.get_loc('text')] = tweet"
   ]
  },
  {
   "cell_type": "code",
   "execution_count": 5,
   "metadata": {},
   "outputs": [],
   "source": [
    "df2 = df[['text','category']]\n",
    "\n",
    "df2 = df2[pd.notnull(df2['text'])]\n",
    "\n",
    "df2['category_id'] = df2['category'].factorize()[0]\n",
    "category_id_df = df2[['category', 'category_id']].drop_duplicates().sort_values('category_id')\n",
    "category_to_id = dict(category_id_df.values)\n",
    "id_to_category = dict(category_id_df[['category_id', 'category']].values)"
   ]
  },
  {
   "cell_type": "code",
   "execution_count": 110,
   "metadata": {},
   "outputs": [],
   "source": [
    "from sklearn.feature_extraction.text import TfidfVectorizer\n",
    "\n",
    "tfidf = TfidfVectorizer(sublinear_tf=True, min_df=3, norm='l2', encoding='latin-1', ngram_range=(1, 2), stop_words='english')\n",
    "\n",
    "features = tfidf.fit_transform(df2.text).toarray()\n",
    "labels = df2.category_id\n",
    "\n",
    "from sklearn.feature_selection import chi2\n",
    "\n",
    "N = 2\n",
    "for category, category_id in sorted(category_to_id.items()):\n",
    "  features_chi2 = chi2(features, labels == category_id)\n",
    "  indices = np.argsort(features_chi2[0])\n",
    "  feature_names = np.array(tfidf.get_feature_names())[indices]\n",
    "  unigrams = [v for v in feature_names if len(v.split(' ')) == 1]\n",
    "  bigrams = [v for v in feature_names if len(v.split(' ')) == 2]"
   ]
  },
  {
   "cell_type": "code",
   "execution_count": 111,
   "metadata": {},
   "outputs": [
    {
     "data": {
      "image/png": "[encoded data removed]",
      "text/plain": [
       "<Figure size 720x720 with 2 Axes>"
      ]
     },
     "metadata": {
      "needs_background": "light"
     },
     "output_type": "display_data"
    }
   ],
   "source": [
    "model = LinearSVC(random_state=0)\n",
    "\n",
    "X_train, X_test, y_train, y_test, indices_train, indices_test = train_test_split(features, labels, df.index, test_size=0.25, random_state=0)\n",
    "model.fit(X_train, y_train)\n",
    "y_pred = model.predict(X_test)\n",
    "\n",
    "from sklearn.metrics import confusion_matrix\n",
    "\n",
    "conf_mat = confusion_matrix(y_test, y_pred)\n",
    "fig, ax = plt.subplots(figsize=(10,10))\n",
    "sns.heatmap(conf_mat, annot=True, fmt='d',\n",
    "            xticklabels=category_id_df.category.values, yticklabels=category_id_df.category.values)\n",
    "plt.ylabel('Actual')\n",
    "plt.xlabel('Predicted')\n",
    "plt.show()"
   ]
  },
  {
   "cell_type": "code",
   "execution_count": null,
   "metadata": {},
   "outputs": [],
   "source": []
  }
 ],
 "metadata": {
  "kernelspec": {
   "display_name": "Python 3",
   "language": "python",
   "name": "python3"
  },
  "language_info": {
   "codemirror_mode": {
    "name": "ipython",
    "version": 3
   },
   "file_extension": ".py",
   "mimetype": "text/x-python",
   "name": "python",
   "nbconvert_exporter": "python",
   "pygments_lexer": "ipython3",
   "version": "3.7.2"
  }
 },
 "nbformat": 4,
 "nbformat_minor": 2
}
