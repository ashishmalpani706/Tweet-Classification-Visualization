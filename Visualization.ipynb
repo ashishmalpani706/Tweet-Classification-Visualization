{
 "cells": [
  {
   "cell_type": "code",
   "execution_count": 1,
   "metadata": {},
   "outputs": [],
   "source": [
    "# import warnings filter\n",
    "from warnings import simplefilter\n",
    "# ignore all future warnings\n",
    "simplefilter(action='ignore', category=FutureWarning)"
   ]
  },
  {
   "cell_type": "code",
   "execution_count": 2,
   "metadata": {},
   "outputs": [
    {
     "data": {
      "text/plain": [
       "0    #weather Another #fakenews video @CNN Anderson...\n",
       "1    Staring Down Hurricane Florence via NASA https...\n",
       "2    #hurricane #florence http:// tra.one/tcphurFlo...\n",
       "3    Hurricane Florence is still moving through the...\n",
       "4    Houston is collecting donations for Hurricane ...\n",
       "Name: text, dtype: object"
      ]
     },
     "execution_count": 2,
     "metadata": {},
     "output_type": "execute_result"
    }
   ],
   "source": [
    "#Load data\n",
    "import pandas as pd\n",
    "import numpy as np\n",
    "import re\n",
    "import nltk\n",
    "df = pd.read_csv('C:\\\\Ashish\\\\Project\\\\dataset\\\\trainset1.csv')#,nrows = 1500)\n",
    "df.text[:5]"
   ]
  },
  {
   "cell_type": "code",
   "execution_count": 3,
   "metadata": {},
   "outputs": [
    {
     "data": {
      "text/plain": [
       "1    1009\n",
       "2     588\n",
       "3     307\n",
       "4     118\n",
       "Name: category, dtype: int64"
      ]
     },
     "execution_count": 3,
     "metadata": {},
     "output_type": "execute_result"
    }
   ],
   "source": [
    "df.category.value_counts()"
   ]
  },
  {
   "cell_type": "code",
   "execution_count": 4,
   "metadata": {},
   "outputs": [],
   "source": [
    "#Remove Tweeter Handles\n",
    "def remove_pattern(input_txt, pattern):\n",
    "    r = re.findall(pattern, input_txt)\n",
    "    for i in r:\n",
    "        input_txt = re.sub(i, '', input_txt)\n",
    "        \n",
    "    return input_txt  \n",
    "\n",
    "# remove twitter handles (@user)\n",
    "df['text'] = np.vectorize(remove_pattern)(df['text'], \"@[\\w]*\")"
   ]
  },
  {
   "cell_type": "code",
   "execution_count": 5,
   "metadata": {},
   "outputs": [],
   "source": [
    "#Remove hyperlinks and hashtags\n",
    "for i in range(len(df)):\n",
    "    tweet = df.iloc[i,df.columns.get_loc('text')]\n",
    "    tweet = tweet.lower()\n",
    "    tweet = re.sub(r\"\\S+\\/.\\S+ *\\S+|.\\S+html|\\S+-\\S+|\\d*\\/\\d+|\\d+|\\S+%\\S+|\\S+:\\S*|\\S+=\\S+|.#\\S+\", \"\", tweet)\n",
    "    tweet = tweet.encode(\"ascii\", errors=\"ignore\").decode()\n",
    "    df.iloc[i,df.columns.get_loc('text')] = tweet"
   ]
  },
  {
   "cell_type": "code",
   "execution_count": 6,
   "metadata": {},
   "outputs": [],
   "source": [
    "#Remove Stop Words\n",
    "from nltk.corpus import stopwords \n",
    "from nltk.tokenize import word_tokenize \n",
    "stop_words = set(stopwords.words('english'))\n",
    "for i in range(len(df)):\n",
    "    tweet = df.iloc[i,df.columns.get_loc('text')]\n",
    "    word_tokens = word_tokenize(tweet) \n",
    "    filtered_sentence = [w for w in word_tokens if not w in stop_words] \n",
    "    filtered_sentence = [] \n",
    "    for w in word_tokens: \n",
    "        if w not in stop_words: \n",
    "            filtered_sentence.append(w) \n",
    "    tweet = ' '.join(filtered_sentence)\n",
    "    df.iloc[i,df.columns.get_loc('text')] = tweet"
   ]
  },
  {
   "cell_type": "code",
   "execution_count": 7,
   "metadata": {},
   "outputs": [],
   "source": [
    "#Remove Custom Words\n",
    "custom_words = ['via','rt','fav','…','am','et','pm','n\\'t','y\\'all']\n",
    "for i in range(len(df)):\n",
    "    tweet = df.iloc[i,df.columns.get_loc('text')]\n",
    "    querywords = tweet.split()\n",
    "    resultwords  = [word for word in querywords if word.lower() not in custom_words]\n",
    "    result = ' '.join(resultwords)\n",
    "    df.iloc[i,df.columns.get_loc('text')] = result"
   ]
  },
  {
   "cell_type": "code",
   "execution_count": 8,
   "metadata": {},
   "outputs": [],
   "source": [
    "#Remove punctuation\n",
    "import string\n",
    "remove = string.punctuation + \".‘’\\''“”°…-—––•・®.:#\"\n",
    "for i in range(len(df)):\n",
    "    tweet = df.iloc[i,df.columns.get_loc('text')]\n",
    "    tweet = ' '.join(word.strip(remove) for word in tweet.split())\n",
    "    tweet = tweet.strip()\n",
    "    df.iloc[i,df.columns.get_loc('text')] = tweet"
   ]
  },
  {
   "cell_type": "code",
   "execution_count": 9,
   "metadata": {},
   "outputs": [],
   "source": [
    "# Lemmatize with POS Tag\n",
    "from nltk.corpus import wordnet\n",
    "from nltk.stem.wordnet import WordNetLemmatizer\n",
    "\n",
    "def get_wordnet_pos(word):\n",
    "    \"\"\"Map POS tag to first character lemmatize() accepts\"\"\"\n",
    "    tag = nltk.pos_tag([word])[0][1][0].upper()\n",
    "    tag_dict = {\"J\": wordnet.ADJ,\n",
    "                \"N\": wordnet.NOUN,\n",
    "                \"V\": wordnet.VERB,\n",
    "                \"R\": wordnet.ADV}\n",
    "\n",
    "    return tag_dict.get(tag, wordnet.NOUN)\n",
    "\n",
    "# 1. Init Lemmatizer\n",
    "lemmatizer = WordNetLemmatizer()\n",
    "\n",
    "for i in range(len(df)):\n",
    "    tweet = df.iloc[i,df.columns.get_loc('text')]\n",
    "    tweet =([lemmatizer.lemmatize(w, get_wordnet_pos(w)) for w in nltk.word_tokenize(tweet)])\n",
    "    tweet = ' '.join(tweet)\n",
    "    df.iloc[i,df.columns.get_loc('text')] = tweet"
   ]
  },
  {
   "cell_type": "code",
   "execution_count": 10,
   "metadata": {},
   "outputs": [],
   "source": [
    "# Remove words with 2 or less characters\n",
    "import nltk\n",
    "words = set(nltk.corpus.words.words())\n",
    "for i in range(len(df)):\n",
    "    tweet = df.iloc[i,df.columns.get_loc('text')]\n",
    "    tweet = ' '.join(word for word in tweet.split() if len(word)>3)\n",
    "    df.iloc[i,df.columns.get_loc('text')] = tweet"
   ]
  },
  {
   "cell_type": "code",
   "execution_count": 11,
   "metadata": {},
   "outputs": [],
   "source": [
    "#Remove tweets with less than 3 words\n",
    "count = df['text'].str.split().str.len()\n",
    "df = df[~(count < 2)]"
   ]
  },
  {
   "cell_type": "code",
   "execution_count": 12,
   "metadata": {},
   "outputs": [],
   "source": [
    "#To view tweets\n",
    "# for index, row in df.iterrows():\n",
    "#     print(row.text)"
   ]
  },
  {
   "cell_type": "code",
   "execution_count": 13,
   "metadata": {},
   "outputs": [],
   "source": [
    "#----------END--OF--PRE-PROCESSING----------#"
   ]
  },
  {
   "cell_type": "code",
   "execution_count": 14,
   "metadata": {},
   "outputs": [],
   "source": [
    "#"
   ]
  },
  {
   "cell_type": "code",
   "execution_count": 15,
   "metadata": {},
   "outputs": [],
   "source": [
    "#----------END--OF--CLASSIFICATION----------#"
   ]
  },
  {
   "cell_type": "code",
   "execution_count": 16,
   "metadata": {},
   "outputs": [],
   "source": [
    "#Init API Keys\n",
    "import plotly\n",
    "plotly.tools.set_credentials_file(username='ashishmalpani706', api_key='xwX1e7cYSijpAEpyEFQD')"
   ]
  },
  {
   "cell_type": "code",
   "execution_count": 17,
   "metadata": {},
   "outputs": [],
   "source": [
    "#Extract Day and save it to main data\n",
    "from datetime import datetime\n",
    "day = []\n",
    "for index, row in df.iterrows():\n",
    "    day.append(datetime.strptime(row.date, '%d-%m-%y %H:%M').day)\n",
    "df['day'] = day"
   ]
  },
  {
   "cell_type": "code",
   "execution_count": 18,
   "metadata": {},
   "outputs": [],
   "source": [
    "#Generate data for traces of plot\n",
    "grouped_data = df.groupby([\"day\", \"category\"])['date'].count()\n",
    "\n",
    "x_axis = grouped_data.index.levels[0]\n",
    "\n",
    "data = [grouped_data[point] for point in x_axis]\n",
    "\n",
    "number_of_categories = len(df.category.unique())\n",
    "\n",
    "t = [None]*number_of_categories\n",
    "\n",
    "for trace_number in range(number_of_categories):\n",
    "    t[trace_number] = []\n",
    "    for i in range(len(data)):\n",
    "        if trace_number + 1 in data[i]:\n",
    "            t[trace_number].append(data[i][trace_number + 1])\n",
    "        else:\n",
    "            t[trace_number].append(0)"
   ]
  },
  {
   "cell_type": "code",
   "execution_count": 19,
   "metadata": {},
   "outputs": [
    {
     "name": "stdout",
     "output_type": "stream",
     "text": [
      "https://plot.ly/~ashishmalpani706/43\n"
     ]
    }
   ],
   "source": [
    "#Generate traces\n",
    "import plotly.plotly as py\n",
    "import plotly.graph_objs as go\n",
    "import turtle\n",
    "import random\n",
    "# Make a list of colors to pick from. Add more if more categories are present\n",
    "colors  = [\"blue\",\"green\",\"red\",\"purple\",\"yellow\",\"pink\",\"orange\"]\n",
    "trace = [None]*number_of_categories\n",
    "for trace_number in range(number_of_categories):\n",
    "    trace[trace_number] = dict(\n",
    "    x = x_axis,\n",
    "    y = t[trace_number],\n",
    "    hoverinfo='x+y',\n",
    "    mode='lines',\n",
    "    line=dict(width=0.5,\n",
    "              color = colors[trace_number]),\n",
    "    stackgroup='one')\n",
    "plotly_data = [go.Scatter(single_trace) for single_trace in trace]\n",
    "url = py.plot({'data': plotly_data},\n",
    "               filename = 'widget chart', auto_open=False)\n",
    "print(url)"
   ]
  },
  {
   "cell_type": "code",
   "execution_count": 20,
   "metadata": {},
   "outputs": [
    {
     "name": "stdout",
     "output_type": "stream",
     "text": [
      "https://plot.ly/~ashishmalpani706/45\n"
     ]
    }
   ],
   "source": [
    "#Generate table for plot\n",
    "trace = go.Table(\n",
    "    header=dict(values=['Date', 'Category', 'Text'],\n",
    "                fill = dict(color='#C2D4FF'),\n",
    "                align = ['left'] * 5),\n",
    "    cells=dict(values=[df.date, df.category, df.text],\n",
    "               fill = dict(color='#F5F8FF'),\n",
    "               align = ['left'] * 5))\n",
    "\n",
    "# data = [trace] \n",
    "# py.iplot(data, filename = 'pandas_table')\n",
    "\n",
    "url2 = py.plot({'data': [go.Table(trace)]},\n",
    "               filename = 'widget table', auto_open=False)\n",
    "print(url2)"
   ]
  },
  {
   "cell_type": "code",
   "execution_count": 24,
   "metadata": {},
   "outputs": [
    {
     "data": {
      "application/vnd.jupyter.widget-view+json": {
       "model_id": "a5a56bdef27748008c1ad9f9e1e6b181",
       "version_major": 2,
       "version_minor": 0
      },
      "text/plain": [
       "GraphWidget()"
      ]
     },
     "metadata": {},
     "output_type": "display_data"
    },
    {
     "data": {
      "application/vnd.jupyter.widget-view+json": {
       "model_id": "5c3c65a1473e4527b5e36e2ff3f1d4af",
       "version_major": 2,
       "version_minor": 0
      },
      "text/plain": [
       "GraphWidget()"
      ]
     },
     "metadata": {},
     "output_type": "display_data"
    }
   ],
   "source": [
    "#Display plot and table\n",
    "from plotly.widgets import GraphWidget\n",
    "g = GraphWidget(url)\n",
    "g2 = GraphWidget(url2)\n",
    "display(g)\n",
    "display(g2)"
   ]
  },
  {
   "cell_type": "code",
   "execution_count": 25,
   "metadata": {},
   "outputs": [],
   "source": [
    "import math\n",
    "def message_handler(widget, msg):\n",
    "    start = math.floor(msg['x'][0])\n",
    "    end = math.floor(msg['x'][1])\n",
    "    \n",
    "    analysis_data = dict(values=[])\n",
    "\n",
    "    temp = []\n",
    "    for index, row in df.iterrows():\n",
    "        if row.day >= start and row.day <= end:\n",
    "            temp.append(row.date)\n",
    "\n",
    "    temp = pd.Series(temp)\n",
    "    analysis_data['values'].append([temp])\n",
    "\n",
    "    temp = []\n",
    "    for index, row in df.iterrows():\n",
    "        if row.day >= start and row.day <= end:\n",
    "            temp.append(row.category)\n",
    "\n",
    "    temp = pd.Series(temp)\n",
    "    analysis_data['values'].append([temp])\n",
    "\n",
    "    temp = []\n",
    "    for index, row in df.iterrows():\n",
    "        if row.day >= start and row.day <= end:\n",
    "            temp.append(row.text)\n",
    "\n",
    "    temp = pd.Series(temp)\n",
    "    analysis_data['values'].append([temp])\n",
    "    \n",
    "    list_of_lists = [mylist for mylist in analysis_data['values']]\n",
    "    flattened_list = [y for x in list_of_lists for y in x]\n",
    "    \n",
    "    analysis_data['values'] = flattened_list\n",
    "    g2.restyle({'cells':analysis_data})\n",
    "\n",
    "g.on_zoom(message_handler)"
   ]
  },
  {
   "cell_type": "code",
   "execution_count": null,
   "metadata": {},
   "outputs": [],
   "source": []
  }
 ],
 "metadata": {
  "kernelspec": {
   "display_name": "Python 3",
   "language": "python",
   "name": "python3"
  },
  "language_info": {
   "codemirror_mode": {
    "name": "ipython",
    "version": 3
   },
   "file_extension": ".py",
   "mimetype": "text/x-python",
   "name": "python",
   "nbconvert_exporter": "python",
   "pygments_lexer": "ipython3",
   "version": "3.7.2"
  }
 },
 "nbformat": 4,
 "nbformat_minor": 2
}
