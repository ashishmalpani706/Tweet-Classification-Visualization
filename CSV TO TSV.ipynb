{
 "cells": [
  {
   "cell_type": "code",
   "execution_count": 1,
   "metadata": {},
   "outputs": [],
   "source": [
    "import pandas as pd"
   ]
  },
  {
   "cell_type": "code",
   "execution_count": 2,
   "metadata": {},
   "outputs": [],
   "source": [
    "# if you are creating test.tsv, set header=True instead of Falseimport pandas as pd\n",
    "df = pd.read_csv('C:\\\\Ashish\\\\Project\\\\dataset\\\\bert\\\\2tsv-train.csv')\n",
    "df.to_csv('C:\\\\Ashish\\\\Project\\\\dataset\\\\bert\\\\train.tsv', sep='\\t', index=False, header=False)"
   ]
  },
  {
   "cell_type": "code",
   "execution_count": 3,
   "metadata": {},
   "outputs": [],
   "source": [
    "# if you are creating test.tsv, set header=True instead of Falseimport pandas as pd\n",
    "df = pd.read_csv('C:\\\\Ashish\\\\Project\\\\dataset\\\\bert\\\\2tsv-dev.csv')\n",
    "df.to_csv('C:\\\\Ashish\\\\Project\\\\dataset\\\\bert\\\\dev.tsv', sep='\\t', index=False, header=False)"
   ]
  },
  {
   "cell_type": "code",
   "execution_count": 4,
   "metadata": {},
   "outputs": [],
   "source": [
    "# if you are creating test.tsv, set header=True instead of Falseimport pandas as pd\n",
    "df = pd.read_csv('C:\\\\Ashish\\\\Project\\\\dataset\\\\bert\\\\2tsv-test.csv')\n",
    "df.to_csv('C:\\\\Ashish\\\\Project\\\\dataset\\\\bert\\\\test.tsv', sep='\\t', index=False, header=True)"
   ]
  },
  {
   "cell_type": "code",
   "execution_count": null,
   "metadata": {},
   "outputs": [],
   "source": []
  }
 ],
 "metadata": {
  "kernelspec": {
   "display_name": "Python 3",
   "language": "python",
   "name": "python3"
  },
  "language_info": {
   "codemirror_mode": {
    "name": "ipython",
    "version": 3
   },
   "file_extension": ".py",
   "mimetype": "text/x-python",
   "name": "python",
   "nbconvert_exporter": "python",
   "pygments_lexer": "ipython3",
   "version": "3.7.2"
  }
 },
 "nbformat": 4,
 "nbformat_minor": 2
}
